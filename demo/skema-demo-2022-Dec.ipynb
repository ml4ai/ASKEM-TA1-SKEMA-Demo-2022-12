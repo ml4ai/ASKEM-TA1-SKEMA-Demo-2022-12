{
 "cells": [
  {
   "cell_type": "markdown",
   "id": "f0db9336",
   "metadata": {},
   "source": [
    "# SKEMA December 2022 Demo"
   ]
  },
  {
   "cell_type": "markdown",
   "id": "e2e81f92",
   "metadata": {
    "heading_collapsed": true
   },
   "source": [
    "## Preamble"
   ]
  },
  {
   "cell_type": "code",
   "execution_count": null,
   "id": "66267877",
   "metadata": {
    "hidden": true
   },
   "outputs": [],
   "source": [
    "### Code2FN\n",
    "import os\n",
    "from pprint import pprint\n",
    "SKEMA_GOOGLE_DRIVE_ROOT = \"/Users/claytonm/My Drive/ASKEM-SKEMA/\"\n",
    "\n",
    "### Text Reading and METAL\n",
    "from automates.utils.fold import dictionary_to_gromet_json, del_nulls\n",
    "from skema.text_reading.mention_linking.gromet_linker import align_and_link\n",
    "\n",
    "# File paths (replace the data directory with your local version)\n",
    "# data_directory = \"/media/evo870/github/skema/skema/text_reading/mention_linking/data\"\n",
    "data_directory = \"/Users/claytonm/My Drive/ASKEM-SKEMA/data/resources/tr/mention_linking_files/\"\n",
    "embedding_directory = \"/Users/claytonm/My Drive/ASKEM-SKEMA/data/resources/tr/word_embeddings/epi+code_comments/\"\n",
    "\n",
    "gromet_path = os.path.join(data_directory, \"gromet\", \"CHIME_SIR--Gromet-FN-auto.json\")\n",
    "comments_path = os.path.join(data_directory, \"comments\", \"CHIME_SIR.json\")\n",
    "extractions_path = os.path.join(data_directory, \"extractions\", \"CHIME_SIR.json\")\n",
    "embeddings_path = os.path.join(embedding_directory, \"embeddings.kv\")"
   ]
  },
  {
   "cell_type": "markdown",
   "id": "d751abe8",
   "metadata": {
    "hidden": true
   },
   "source": [
    "Running the SKEMA server\n",
    "- `cd skema/skema/skema-rs`\n",
    "- `docker-compose -f docker-compose.memgraph.yml up --build -d`\n",
    "- `cargo run --bin skema_service`"
   ]
  },
  {
   "cell_type": "markdown",
   "id": "7be736ca",
   "metadata": {
    "heading_collapsed": true
   },
   "source": [
    "## Code2FN"
   ]
  },
  {
   "cell_type": "markdown",
   "id": "a31ab2d9",
   "metadata": {
    "hidden": true
   },
   "source": [
    "Extracting multi-module systems\n",
    "```\n",
    "penn_chime/\n",
    "├── __init__.py\n",
    "├── cli.py\n",
    "├── constants.py\n",
    "└── model\n",
    "    ├── __init__.py\n",
    "    ├── parameters.py\n",
    "    ├── sir.py\n",
    "    └── validators\n",
    "        ├── __init__.py\n",
    "        ├── base.py\n",
    "        └── validators.py\n",
    "```\n",
    "\n",
    "System definition\n",
    "```\n",
    "\"cli.py\"\n",
    "\"constants.py\"\n",
    "\"model/parameters.py\"\n",
    "\"model/sir.py\"\n",
    "\"model/validators/base.py\"\n",
    "\"model/validators/validators.py\"\n",
    "```"
   ]
  },
  {
   "cell_type": "code",
   "execution_count": null,
   "id": "3e20b801",
   "metadata": {
    "hidden": true
   },
   "outputs": [],
   "source": [
    "from automates.utils.script_functions import process_file_system\n",
    "from automates.program_analysis.JSON2GroMEt.json2gromet import json_to_gromet\n",
    "\n",
    "CHIME_PATH=os.path.join(SKEMA_GOOGLE_DRIVE_ROOT, \"data/epidemiology/CHIME/CHIME_penn_full_model/code\")\n",
    "CHIME_SYSTEM_NAME=\"penn_chime\"\n",
    "SYSTEM_ROOT_PATH=os.path.join(CHIME_PATH, CHIME_SYSTEM_NAME)\n",
    "SYSTEM_FILES_PATH=os.path.join(CHIME_PATH, \"system_filepaths.txt\")\n",
    "\n",
    "# process_file_system takes in the three parameters from the previous cell, and \n",
    "# generates a single GroMEt JSON file containing generated GroMEt for the whole system\n",
    "process_file_system(CHIME_SYSTEM_NAME, SYSTEM_ROOT_PATH, SYSTEM_FILES_PATH)\n",
    "# chime_module_collection = json_to_gromet('penn_chime--Gromet-FN-auto.json')"
   ]
  },
  {
   "cell_type": "code",
   "execution_count": null,
   "id": "59ed7b50",
   "metadata": {
    "hidden": true
   },
   "outputs": [],
   "source": [
    "with open('penn_chime--Gromet-FN-auto.json', 'r') as f:\n",
    "    chime_module_collection = json.load(f)\n",
    "pprint(chime_module_collection)"
   ]
  },
  {
   "cell_type": "markdown",
   "id": "f08cfed5",
   "metadata": {
    "heading_collapsed": true
   },
   "source": [
    "## Text Reading and Metadata Linking (METAL)"
   ]
  },
  {
   "cell_type": "markdown",
   "id": "ed483030",
   "metadata": {
    "hidden": true
   },
   "source": [
    "![link_graph](figs/link_graph.png)"
   ]
  },
  {
   "cell_type": "code",
   "execution_count": null,
   "id": "98574b77",
   "metadata": {
    "hidden": true
   },
   "outputs": [],
   "source": [
    "linked_gromet = align_and_link(gromet_path, comments_path, extractions_path, embeddings_path)\n",
    "# Save linked gromet\n",
    "with open(\"linked_gromet.json\", 'w') as f:\n",
    "    f.write(dictionary_to_gromet_json(del_nulls(linked_gromet.to_dict())))"
   ]
  },
  {
   "cell_type": "code",
   "execution_count": null,
   "id": "d3ecf584",
   "metadata": {
    "hidden": true
   },
   "outputs": [],
   "source": [
    "# Display linked gromet file\n",
    "linked_gromet"
   ]
  },
  {
   "cell_type": "markdown",
   "id": "eb28c3eb",
   "metadata": {
    "hidden": true
   },
   "source": [
    "Example of `doubling_time` units metadata:\n",
    "\n",
    "```\n",
    "{\"metadata_type\": \"text_units\",\n",
    " \"text_extraction\": {\n",
    "     \"document_reference_uid\": \"7596863165735053645\",\n",
    "     \"page\": 6,\n",
    "     \"block\": 9,\n",
    "     \"char_begin\": 261,\n",
    "     \"char_end\": 287\n",
    " },\n",
    " \"variable_identifier\": \"doubling time\",\n",
    " \"unit_type\": \"days\",\n",
    " \"grounding\": [\n",
    "     {\"argument_name\":\"variable\",\n",
    "      \"id\":\"pato:0000165\",\n",
    "      \"description\":\"time\",\n",
    "      \"score\":0.8254868},\n",
    " ],\n",
    " \"provenance\": {\n",
    "     \"method\": \"embedding_similarity_1.0\",\n",
    "     \"timestamp\": \"2022-12-08 07:27:40.876704\"\n",
    " }\n",
    "}\n",
    "```"
   ]
  },
  {
   "cell_type": "markdown",
   "id": "de2a448f",
   "metadata": {
    "heading_collapsed": true
   },
   "source": [
    "## SKEMA Server and FN Graph Service"
   ]
  },
  {
   "cell_type": "markdown",
   "id": "45298f43",
   "metadata": {
    "hidden": true
   },
   "source": [
    "Swagger docs for the SKEMA server REST API: http://localhost:8080/api-docs/"
   ]
  },
  {
   "cell_type": "code",
   "execution_count": null,
   "id": "a1d7d807",
   "metadata": {
    "hidden": true
   },
   "outputs": [],
   "source": [
    "from IPython.display import IFrame\n",
    "IFrame('http://localhost:8080/api-docs/', width=700, height=350)"
   ]
  },
  {
   "cell_type": "code",
   "execution_count": null,
   "id": "7dd6291c",
   "metadata": {
    "hidden": true
   },
   "outputs": [],
   "source": [
    "import json\n",
    "from requests import get, put, post, delete\n",
    "from graphviz import Source\n",
    "BASE_URL=\"http://localhost:8080\""
   ]
  },
  {
   "cell_type": "markdown",
   "id": "190d967d",
   "metadata": {
    "hidden": true
   },
   "source": [
    "Programmatically verify the service is running:"
   ]
  },
  {
   "cell_type": "code",
   "execution_count": null,
   "id": "23ea104a",
   "metadata": {
    "hidden": true
   },
   "outputs": [],
   "source": [
    "get(f\"{BASE_URL}/ping\").text"
   ]
  },
  {
   "cell_type": "markdown",
   "id": "fc1c8bca",
   "metadata": {
    "hidden": true
   },
   "source": [
    "We can view the **memgraph web interace**, in separate brower window, open: `http://localhost:3000`"
   ]
  },
  {
   "cell_type": "markdown",
   "id": "b15eaf2c",
   "metadata": {
    "hidden": true
   },
   "source": [
    "Load the GroMEt JSON file `CHIME_SVIIvR_core--Gromet-FN-auto.json` into the database. The operation returns the ID of the model that was just inserted - we will use this ID to query the model later."
   ]
  },
  {
   "cell_type": "code",
   "execution_count": null,
   "id": "1c26e038",
   "metadata": {
    "hidden": true
   },
   "outputs": [],
   "source": [
    "with open('../../../data/demo/CHIME_SVIIvR_core--Gromet-FN-auto.json') as f:\n",
    "    r = post(f\"{BASE_URL}/models\", json=json.load(f))\n",
    "    MODEL_ID = r.json()\n",
    "    print(f\"Model ID: {MODEL_ID}\")"
   ]
  },
  {
   "cell_type": "markdown",
   "id": "2c380681",
   "metadata": {
    "hidden": true
   },
   "source": [
    "We then get the IDs of all the models in the database to double check if our model ID is among them."
   ]
  },
  {
   "cell_type": "code",
   "execution_count": null,
   "id": "56bfd00d",
   "metadata": {
    "hidden": true
   },
   "outputs": [],
   "source": [
    "get(f\"{BASE_URL}/models\").json()"
   ]
  },
  {
   "cell_type": "markdown",
   "id": "b6a73fe4",
   "metadata": {
    "hidden": true
   },
   "source": [
    "Run a query to collect the names of all of the _named_ `opi`s (Output Ports) in the model."
   ]
  },
  {
   "cell_type": "code",
   "execution_count": null,
   "id": "22dd466f",
   "metadata": {
    "hidden": true
   },
   "outputs": [],
   "source": [
    "get(f\"{BASE_URL}/models/{MODEL_ID}/named_opis\").json()"
   ]
  },
  {
   "cell_type": "markdown",
   "id": "d2a0a555",
   "metadata": {
    "hidden": true
   },
   "source": [
    "The API endpoint for **deleting** a model."
   ]
  },
  {
   "cell_type": "code",
   "execution_count": null,
   "id": "0f67a0a5",
   "metadata": {
    "hidden": true
   },
   "outputs": [],
   "source": [
    "delete(f\"{BASE_URL}/models/{MODEL_ID}\").text"
   ]
  },
  {
   "cell_type": "markdown",
   "id": "27f42f5a",
   "metadata": {
    "hidden": true
   },
   "source": [
    "Get the IDs of all the models in the database again to check that the model has been deleted."
   ]
  },
  {
   "cell_type": "code",
   "execution_count": null,
   "id": "cef77e52",
   "metadata": {
    "hidden": true
   },
   "outputs": [],
   "source": [
    "get(f\"{BASE_URL}/models\").json()"
   ]
  },
  {
   "cell_type": "markdown",
   "id": "321586b1",
   "metadata": {
    "heading_collapsed": true
   },
   "source": [
    "## Model Role Analysis and Extraction (MORAE) progress"
   ]
  },
  {
   "cell_type": "markdown",
   "id": "93643dd8",
   "metadata": {
    "hidden": true
   },
   "source": [
    "Developing Cypher graph queries to supplement code role pattern definitions in conjunction the Data Science Ontology"
   ]
  },
  {
   "cell_type": "markdown",
   "id": "7a3a3c4f",
   "metadata": {
    "hidden": true
   },
   "source": [
    "<div>\n",
    "<img src=\"figs/fn_graph_core_dynamics_legend.png\" width=\"500\"/>\n",
    "</div>"
   ]
  },
  {
   "cell_type": "markdown",
   "id": "c7c5dad8",
   "metadata": {
    "heading_collapsed": true
   },
   "source": [
    "## Incremental Structure Analysis (ISA) progress"
   ]
  },
  {
   "cell_type": "markdown",
   "id": "9df04e15",
   "metadata": {
    "hidden": true
   },
   "source": [
    "**A quick review**: We proposed using seeded graph matching (SGM) to achieve incremental structural alignment (ISA) of equations in documents and their implementation in source code. At a high level, the procedure is as follows:\n",
    "\n",
    "1. Create a graph representation of the equation and the code.\n",
    "2. Construct the adjacency matrices corresponding to the above graph representations. \n",
    "3. Apply the SGM algorithm with the two adjacency matrices as inputs.\n",
    "\n",
    "Constructing graph representations for equations and code that are suitable for the alignment procedure is a nontrivial task.\n",
    "\n",
    "Consider the S update equation in the CHIME SIR model."
   ]
  },
  {
   "cell_type": "code",
   "execution_count": null,
   "id": "23452123",
   "metadata": {
    "hidden": true
   },
   "outputs": [],
   "source": [
    "from IPython.display import Image\n",
    "IMAGE_PATH = 'sir.png'\n",
    "Image(filename=IMAGE_PATH)"
   ]
  },
  {
   "cell_type": "markdown",
   "id": "ce44f1a6",
   "metadata": {
    "hidden": true
   },
   "source": [
    "The presentation MathML representation of the above equation is shown below."
   ]
  },
  {
   "cell_type": "code",
   "execution_count": null,
   "id": "fb82dea3",
   "metadata": {
    "hidden": true
   },
   "outputs": [],
   "source": [
    "content = \\\n",
    "\"\"\"<math \n",
    "    xmlns=\"http://www.w3.org/1998/Math/MathML\" \n",
    "    display=\"block\" \n",
    "    title=\"S_{t+1} = S_t - \\beta S_t I_t \"\n",
    ">\n",
    "  <mrow>\n",
    "    <msub>\n",
    "      <mrow>\n",
    "        <mi>S</mi>\n",
    "      </mrow>\n",
    "      <mrow>\n",
    "        <mi>t</mi>\n",
    "        <mo>+</mo>\n",
    "        <mn>1</mn>\n",
    "      </mrow>\n",
    "    </msub>\n",
    "    <mo>=</mo>\n",
    "    <msub>\n",
    "      <mrow>\n",
    "        <mi>S</mi>\n",
    "      </mrow>\n",
    "      <mrow>\n",
    "        <mi>t</mi>\n",
    "      </mrow>\n",
    "    </msub>\n",
    "    <mo>-</mo>\n",
    "    <mi>β</mi>\n",
    "    <msub>\n",
    "      <mrow>\n",
    "        <mi>S</mi>\n",
    "      </mrow>\n",
    "      <mrow>\n",
    "        <mi>t</mi>\n",
    "      </mrow>\n",
    "    </msub>\n",
    "    <msub>\n",
    "      <mrow>\n",
    "        <mi>I</mi>\n",
    "      </mrow>\n",
    "      <mrow>\n",
    "        <mi>t</mi>\n",
    "      </mrow>\n",
    "    </msub>\n",
    "  </mrow>\n",
    "</math>\"\"\""
   ]
  },
  {
   "cell_type": "markdown",
   "id": "f5acdc5b",
   "metadata": {
    "hidden": true
   },
   "source": [
    "We can visualize the the above MathML document using our ast-graph REST API, which returns a DOT representation of the MathML AST for visualization."
   ]
  },
  {
   "cell_type": "code",
   "execution_count": null,
   "id": "78e4c487",
   "metadata": {
    "hidden": true
   },
   "outputs": [],
   "source": [
    "Source(\n",
    "    put('http://localhost:8080/mathml/ast-graph',\n",
    "        data=content.encode('utf-8')).text\n",
    ")"
   ]
  },
  {
   "cell_type": "markdown",
   "id": "8881c202",
   "metadata": {
    "hidden": true
   },
   "source": [
    "However, the presentation MathML representation is only concerned with the *presentation* of the equation, rather than the *content*. In order to work with the semantic content of the equation, we must transform the presentation MathML representation into a semantically meaningful representation, using a set of heuristic rules. We call this representation the 'math expression graph' (MEG). We may come up with a better name for it later...\n",
    "\n",
    "In the cell below, we send a MathML document to the `/mathml/math-exp-graph` which automatically constructs the MEG and returns a DOT representation of it for visualization.\n",
    "\n",
    "The generated representation (shown below) encodes the semantic content of the MathML equation in a compact fashion, that can then be represented in an adjacency graph for graph alignment."
   ]
  },
  {
   "cell_type": "code",
   "execution_count": null,
   "id": "fb5225df",
   "metadata": {
    "hidden": true
   },
   "outputs": [],
   "source": [
    "Source(\n",
    "    put(\n",
    "        'http://localhost:8080/mathml/math-exp-graph',\n",
    "        data=content.encode('utf-8')).text\n",
    ")"
   ]
  },
  {
   "cell_type": "markdown",
   "id": "7bc8433d",
   "metadata": {
    "heading_collapsed": true
   },
   "source": [
    "## BiLayer Extraction"
   ]
  },
  {
   "cell_type": "code",
   "execution_count": null,
   "id": "7452f2b7",
   "metadata": {
    "hidden": true
   },
   "outputs": [],
   "source": [
    "with open('CHIME_SIR_dynamics_BiLayer.json', 'r') as f:\n",
    "    chime_sir_bl = json.load(f)\n",
    "pprint(chime_sir_bl)"
   ]
  },
  {
   "cell_type": "code",
   "execution_count": null,
   "id": "ea9195b1",
   "metadata": {
    "hidden": true
   },
   "outputs": [],
   "source": [
    "with open('CHIME_SIR_dynamics_BiLayer-metadata.json', 'r') as f:\n",
    "    chime_sir_bl = json.load(f)\n",
    "pprint(chime_sir_bl)"
   ]
  },
  {
   "cell_type": "code",
   "execution_count": null,
   "id": "09c6d09a",
   "metadata": {
    "hidden": true
   },
   "outputs": [],
   "source": []
  }
 ],
 "metadata": {
  "kernelspec": {
   "display_name": "Python 3 (ipykernel)",
   "language": "python",
   "name": "python3"
  },
  "language_info": {
   "codemirror_mode": {
    "name": "ipython",
    "version": 3
   },
   "file_extension": ".py",
   "mimetype": "text/x-python",
   "name": "python",
   "nbconvert_exporter": "python",
   "pygments_lexer": "ipython3",
   "version": "3.10.9"
  },
  "varInspector": {
   "cols": {
    "lenName": 16,
    "lenType": 16,
    "lenVar": 40
   },
   "kernels_config": {
    "python": {
     "delete_cmd_postfix": "",
     "delete_cmd_prefix": "del ",
     "library": "var_list.py",
     "varRefreshCmd": "print(var_dic_list())"
    },
    "r": {
     "delete_cmd_postfix": ") ",
     "delete_cmd_prefix": "rm(",
     "library": "var_list.r",
     "varRefreshCmd": "cat(var_dic_list()) "
    }
   },
   "types_to_exclude": [
    "module",
    "function",
    "builtin_function_or_method",
    "instance",
    "_Feature"
   ],
   "window_display": false
  }
 },
 "nbformat": 4,
 "nbformat_minor": 5
}
